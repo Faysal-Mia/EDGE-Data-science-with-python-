{
 "cells": [
  {
   "cell_type": "code",
   "execution_count": 3,
   "id": "82557b1e-dc83-40d7-8398-d9329dbcacde",
   "metadata": {},
   "outputs": [
    {
     "name": "stdin",
     "output_type": "stream",
     "text": [
      "number of entries:  3\n",
      "name:  nayan\n",
      "number:  098646789\n",
      "name:  naya2\n",
      "number:  09934567767\n",
      "name:  nayan3\n",
      "number:  097654235768\n"
     ]
    },
    {
     "name": "stdout",
     "output_type": "stream",
     "text": [
      "nayan 098646789\n",
      "naya2 09934567767\n",
      "nayan3 097654235768\n"
     ]
    }
   ],
   "source": [
    "#Problem  1\n",
    "n = int(input(\"number of entries: \"))\n",
    "data = []\n",
    "for i in range(n):\n",
    "    name = input(\"name \")\n",
    "    number = input(\"number \")\n",
    "    data.append((name, number))\n",
    "for name, number in data:\n",
    "    print(f\"{name} {number}\")\n"
   ]
  },
  {
   "cell_type": "code",
   "execution_count": 29,
   "id": "4213106d-9d23-4854-99a2-6a803aa314d2",
   "metadata": {},
   "outputs": [
    {
     "name": "stdin",
     "output_type": "stream",
     "text": [
      " 10 3\n"
     ]
    },
    {
     "name": "stdout",
     "output_type": "stream",
     "text": [
      "4\n"
     ]
    }
   ],
   "source": [
    "#problem 2\n",
    "a, b = map(int, input(\"\").split())\n",
    "if a<b:\n",
    "    print(\"1\")\n",
    "else:\n",
    "    i=2\n",
    "    while True:\n",
    "        if b*i >=a:\n",
    "           print(i)\n",
    "           break\n",
    "        i=i+1      \n"
   ]
  },
  {
   "cell_type": "code",
   "execution_count": null,
   "id": "f514613b-c21c-44c5-9604-c1c1a5387a09",
   "metadata": {},
   "outputs": [],
   "source": [
    "s=input()\n",
    "if len(s)==6 and s.isdigit():\n",
    "    a=0\n",
    "    b=0\n",
    "    for i in range (3):\n",
    "     a += int(a[i])\n",
    "    for i in range (3,6):\n",
    "     b += int(b[i])\n",
    "    if a==b:\n",
    "        print(\"Lucky\")\n",
    "    else:\n",
    "        print(\"N0\")"
   ]
  },
  {
   "cell_type": "code",
   "execution_count": null,
   "id": "5b4eb7b2-7062-4d2a-985c-ded45e224348",
   "metadata": {},
   "outputs": [],
   "source": [
    "#problem 3\n",
    "s = input()\n",
    "if len(s) == 6 and s.isdigit():\n",
    "    a = 0\n",
    "    b = 0\n",
    "    for i in range(3):\n",
    "        a += int(s[i])\n",
    "    for i in range(3, 6):\n",
    "        b += int(s[i])\n",
    "    if a == b:\n",
    "        print(\"Lucky\")\n",
    "    else:\n",
    "        print(\"No\")\n",
    "else:\n",
    "    print(\"Invalid input\")\n"
   ]
  },
  {
   "cell_type": "code",
   "execution_count": null,
   "id": "0d3fe65f-e2ae-47c6-8eb5-13acfe1e68ca",
   "metadata": {},
   "outputs": [],
   "source": []
  }
 ],
 "metadata": {
  "kernelspec": {
   "display_name": "Python 3 (ipykernel)",
   "language": "python",
   "name": "python3"
  },
  "language_info": {
   "codemirror_mode": {
    "name": "ipython",
    "version": 3
   },
   "file_extension": ".py",
   "mimetype": "text/x-python",
   "name": "python",
   "nbconvert_exporter": "python",
   "pygments_lexer": "ipython3",
   "version": "3.12.4"
  }
 },
 "nbformat": 4,
 "nbformat_minor": 5
}
